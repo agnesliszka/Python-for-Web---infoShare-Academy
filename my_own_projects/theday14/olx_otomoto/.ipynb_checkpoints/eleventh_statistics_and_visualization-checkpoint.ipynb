{
 "cells": [
  {
   "cell_type": "code",
   "execution_count": 1,
   "metadata": {},
   "outputs": [],
   "source": [
    "import pandas as pd\n",
    "import matplotlib.pyplot as plt\n",
    "import ustawienia # zawiera ustawienia rozmiaru wykresu"
   ]
  },
  {
   "cell_type": "markdown",
   "metadata": {},
   "source": [
    "# Podłączanie się do bazy"
   ]
  },
  {
   "cell_type": "markdown",
   "metadata": {},
   "source": [
    "Podłącz się do bazy sqlite i odczytaj zawartość wskazanej tabeli.  \n",
    "* plik 'oferty.db',\n",
    "* tabela 'oferty',\n",
    "* kolumna z indeksem to 'idx',\n",
    "* nazwa obiektu DataFrame to 'oferty_df'"
   ]
  },
  {
   "cell_type": "code",
   "execution_count": 2,
   "metadata": {},
   "outputs": [],
   "source": [
    "offers_df = pd.read_sql_table('offers','sqlite:///offers.db', index_col='id')"
   ]
  },
  {
   "cell_type": "markdown",
   "metadata": {},
   "source": [
    "# Wybór ofert"
   ]
  },
  {
   "cell_type": "markdown",
   "metadata": {},
   "source": [
    "Przygotuj obiekt `oferty_bmw_f10` zawiera oferty, które w kolumnie `typ` mają wartość `F10 (2009-2017)'"
   ]
  },
  {
   "cell_type": "code",
   "execution_count": 3,
   "metadata": {},
   "outputs": [],
   "source": [
    "offers_bmw_seria5 = offers_df[offers_df['model'] == 'Seria 5']"
   ]
  },
  {
   "cell_type": "markdown",
   "metadata": {},
   "source": [
    "Wyświetl 5 wierszy (do Ciebie należy wybór, czy to początkowe czy końcowe wiersze) z utworzonej ramki. Celem tego podpunktu jest weryfikacja czy selekcja była poprawna."
   ]
  },
  {
   "cell_type": "code",
   "execution_count": 4,
   "metadata": {},
   "outputs": [
    {
     "data": {
      "text/html": [
       "<div>\n",
       "<style scoped>\n",
       "    .dataframe tbody tr th:only-of-type {\n",
       "        vertical-align: middle;\n",
       "    }\n",
       "\n",
       "    .dataframe tbody tr th {\n",
       "        vertical-align: top;\n",
       "    }\n",
       "\n",
       "    .dataframe thead th {\n",
       "        text-align: right;\n",
       "    }\n",
       "</style>\n",
       "<table border=\"1\" class=\"dataframe\">\n",
       "  <thead>\n",
       "    <tr style=\"text-align: right;\">\n",
       "      <th></th>\n",
       "      <th>id_kampanii</th>\n",
       "      <th>id_oferty</th>\n",
       "      <th>id_sprzedajacego</th>\n",
       "      <th>lokalizacja</th>\n",
       "      <th>tytul</th>\n",
       "      <th>cena</th>\n",
       "      <th>marka</th>\n",
       "      <th>model</th>\n",
       "      <th>typ</th>\n",
       "      <th>rok_produkcji</th>\n",
       "      <th>przebieg</th>\n",
       "      <th>pojemnosc</th>\n",
       "      <th>moc</th>\n",
       "      <th>rodzaj_paliwa</th>\n",
       "      <th>kolor</th>\n",
       "      <th>uszkodzony</th>\n",
       "      <th>kraj</th>\n",
       "      <th>naped</th>\n",
       "      <th>liczba_miejsc</th>\n",
       "    </tr>\n",
       "    <tr>\n",
       "      <th>idx</th>\n",
       "      <th></th>\n",
       "      <th></th>\n",
       "      <th></th>\n",
       "      <th></th>\n",
       "      <th></th>\n",
       "      <th></th>\n",
       "      <th></th>\n",
       "      <th></th>\n",
       "      <th></th>\n",
       "      <th></th>\n",
       "      <th></th>\n",
       "      <th></th>\n",
       "      <th></th>\n",
       "      <th></th>\n",
       "      <th></th>\n",
       "      <th></th>\n",
       "      <th></th>\n",
       "      <th></th>\n",
       "      <th></th>\n",
       "    </tr>\n",
       "  </thead>\n",
       "  <tbody>\n",
       "    <tr>\n",
       "      <th>3</th>\n",
       "      <td>1</td>\n",
       "      <td>7214094186</td>\n",
       "      <td>motowiatr</td>\n",
       "      <td>Warszawa, woj. mazowieckie</td>\n",
       "      <td>BMW 528i F11 528I 3.0 BENZYNA W-WA</td>\n",
       "      <td>22000.0</td>\n",
       "      <td>BMW</td>\n",
       "      <td>Seria 5</td>\n",
       "      <td>F10 (2009-2017)</td>\n",
       "      <td>2010</td>\n",
       "      <td>100000</td>\n",
       "      <td>3000</td>\n",
       "      <td>258</td>\n",
       "      <td>Benzyna</td>\n",
       "      <td>Niebieski</td>\n",
       "      <td>T</td>\n",
       "      <td>Niemcy</td>\n",
       "      <td>Na tylne koła</td>\n",
       "      <td>5</td>\n",
       "    </tr>\n",
       "    <tr>\n",
       "      <th>5</th>\n",
       "      <td>1</td>\n",
       "      <td>7244612685</td>\n",
       "      <td>Kabaciarz</td>\n",
       "      <td>Warszawa, woj. mazowieckie</td>\n",
       "      <td>BMW M5 BEZWYPADEK SERWIS FULL FULL</td>\n",
       "      <td>179000.0</td>\n",
       "      <td>BMW</td>\n",
       "      <td>Seria 5</td>\n",
       "      <td>F10 (2009-2017)</td>\n",
       "      <td>2012</td>\n",
       "      <td>93000</td>\n",
       "      <td>4400</td>\n",
       "      <td>560</td>\n",
       "      <td>Benzyna</td>\n",
       "      <td>Czarny</td>\n",
       "      <td>N</td>\n",
       "      <td>None</td>\n",
       "      <td>Na tylne koła</td>\n",
       "      <td>5</td>\n",
       "    </tr>\n",
       "    <tr>\n",
       "      <th>6</th>\n",
       "      <td>1</td>\n",
       "      <td>7246874644</td>\n",
       "      <td>AutoMotoMix</td>\n",
       "      <td>Zielona Góra, woj. lubuskie</td>\n",
       "      <td>BMW 5 GT F07 3.0D 2012r ZAREJESTROWANA!</td>\n",
       "      <td>3500.0</td>\n",
       "      <td>BMW</td>\n",
       "      <td>Seria 5</td>\n",
       "      <td>F10 (2009-2017)</td>\n",
       "      <td>2012</td>\n",
       "      <td>120000</td>\n",
       "      <td>3000</td>\n",
       "      <td>250</td>\n",
       "      <td>Diesel</td>\n",
       "      <td>Czarny</td>\n",
       "      <td>T</td>\n",
       "      <td>None</td>\n",
       "      <td>Na przednie koła</td>\n",
       "      <td>5</td>\n",
       "    </tr>\n",
       "    <tr>\n",
       "      <th>9</th>\n",
       "      <td>1</td>\n",
       "      <td>7338880377</td>\n",
       "      <td>autoauto178</td>\n",
       "      <td>Wiązowna, woj. mazowieckie</td>\n",
       "      <td>BMW 535 535i*xDrive 4X4*Skóra*podgrzewanie x4*...</td>\n",
       "      <td>134900.0</td>\n",
       "      <td>BMW</td>\n",
       "      <td>Seria 5</td>\n",
       "      <td>F10 (2009-2017)</td>\n",
       "      <td>2014</td>\n",
       "      <td>4500</td>\n",
       "      <td>3000</td>\n",
       "      <td>306</td>\n",
       "      <td>Benzyna</td>\n",
       "      <td>Niebieski</td>\n",
       "      <td>N</td>\n",
       "      <td>Inny</td>\n",
       "      <td>Na przednie koła</td>\n",
       "      <td>5</td>\n",
       "    </tr>\n",
       "    <tr>\n",
       "      <th>10</th>\n",
       "      <td>1</td>\n",
       "      <td>7338880844</td>\n",
       "      <td>autoauto178</td>\n",
       "      <td>Warszawa, woj. mazowieckie</td>\n",
       "      <td>BMW 5GT (F07) Surround View, Komforty, 4xklima.</td>\n",
       "      <td>69900.0</td>\n",
       "      <td>BMW</td>\n",
       "      <td>Seria 5</td>\n",
       "      <td>F10 (2009-2017)</td>\n",
       "      <td>2010</td>\n",
       "      <td>189000</td>\n",
       "      <td>3000</td>\n",
       "      <td>245</td>\n",
       "      <td>Diesel</td>\n",
       "      <td>Czarny</td>\n",
       "      <td>N</td>\n",
       "      <td>Niemcy</td>\n",
       "      <td>Na tylne koła</td>\n",
       "      <td>5</td>\n",
       "    </tr>\n",
       "  </tbody>\n",
       "</table>\n",
       "</div>"
      ],
      "text/plain": [
       "     id_kampanii   id_oferty id_sprzedajacego                  lokalizacja  \\\n",
       "idx                                                                          \n",
       "3              1  7214094186        motowiatr   Warszawa, woj. mazowieckie   \n",
       "5              1  7244612685        Kabaciarz   Warszawa, woj. mazowieckie   \n",
       "6              1  7246874644      AutoMotoMix  Zielona Góra, woj. lubuskie   \n",
       "9              1  7338880377      autoauto178   Wiązowna, woj. mazowieckie   \n",
       "10             1  7338880844      autoauto178   Warszawa, woj. mazowieckie   \n",
       "\n",
       "                                                 tytul      cena marka  \\\n",
       "idx                                                                      \n",
       "3                   BMW 528i F11 528I 3.0 BENZYNA W-WA   22000.0   BMW   \n",
       "5                   BMW M5 BEZWYPADEK SERWIS FULL FULL  179000.0   BMW   \n",
       "6              BMW 5 GT F07 3.0D 2012r ZAREJESTROWANA!    3500.0   BMW   \n",
       "9    BMW 535 535i*xDrive 4X4*Skóra*podgrzewanie x4*...  134900.0   BMW   \n",
       "10     BMW 5GT (F07) Surround View, Komforty, 4xklima.   69900.0   BMW   \n",
       "\n",
       "       model              typ  rok_produkcji  przebieg  pojemnosc  moc  \\\n",
       "idx                                                                      \n",
       "3    Seria 5  F10 (2009-2017)           2010    100000       3000  258   \n",
       "5    Seria 5  F10 (2009-2017)           2012     93000       4400  560   \n",
       "6    Seria 5  F10 (2009-2017)           2012    120000       3000  250   \n",
       "9    Seria 5  F10 (2009-2017)           2014      4500       3000  306   \n",
       "10   Seria 5  F10 (2009-2017)           2010    189000       3000  245   \n",
       "\n",
       "    rodzaj_paliwa      kolor uszkodzony    kraj             naped  \\\n",
       "idx                                                                 \n",
       "3         Benzyna  Niebieski          T  Niemcy     Na tylne koła   \n",
       "5         Benzyna     Czarny          N    None     Na tylne koła   \n",
       "6          Diesel     Czarny          T    None  Na przednie koła   \n",
       "9         Benzyna  Niebieski          N    Inny  Na przednie koła   \n",
       "10         Diesel     Czarny          N  Niemcy     Na tylne koła   \n",
       "\n",
       "     liczba_miejsc  \n",
       "idx                 \n",
       "3                5  \n",
       "5                5  \n",
       "6                5  \n",
       "9                5  \n",
       "10               5  "
      ]
     },
     "execution_count": 4,
     "metadata": {},
     "output_type": "execute_result"
    }
   ],
   "source": [
    "oferty_bmw_f10.head()"
   ]
  },
  {
   "cell_type": "markdown",
   "metadata": {},
   "source": [
    "# Grupowanie serii"
   ]
  },
  {
   "cell_type": "markdown",
   "metadata": {},
   "source": [
    "Pogrupuj właśnie uzyskane oferty wg kolumny `rok_produkcji`. Nazwa docelowego obiektu: `oferty_pogrupowane`."
   ]
  },
  {
   "cell_type": "code",
   "execution_count": 5,
   "metadata": {},
   "outputs": [],
   "source": [
    "oferty_pogrupowane = oferty_bmw_f10.groupby('rok_produkcji')"
   ]
  },
  {
   "cell_type": "markdown",
   "metadata": {},
   "source": [
    "# Wyświetl proste statystyki"
   ]
  },
  {
   "cell_type": "markdown",
   "metadata": {},
   "source": [
    "Wyświetl średnie ceny z każdej grupy."
   ]
  },
  {
   "cell_type": "code",
   "execution_count": 6,
   "metadata": {},
   "outputs": [
    {
     "data": {
      "text/plain": [
       "rok_produkcji\n",
       "2006     31950.000000\n",
       "2008     30900.000000\n",
       "2010     58714.090909\n",
       "2011     62808.035088\n",
       "2012     70038.441176\n",
       "2013     88585.921569\n",
       "2014     91655.725490\n",
       "2015     98843.500000\n",
       "2016    102869.666667\n",
       "2017    124000.000000\n",
       "Name: cena, dtype: float64"
      ]
     },
     "execution_count": 6,
     "metadata": {},
     "output_type": "execute_result"
    }
   ],
   "source": [
    "oferty_pogrupowane.cena.mean()"
   ]
  },
  {
   "cell_type": "markdown",
   "metadata": {},
   "source": [
    "Wyświetl średnie przebiegi z każdej grupy."
   ]
  },
  {
   "cell_type": "code",
   "execution_count": 7,
   "metadata": {},
   "outputs": [
    {
     "data": {
      "text/plain": [
       "rok_produkcji\n",
       "2006    253500.000000\n",
       "2008    242000.000000\n",
       "2010    188652.030303\n",
       "2011    188863.649123\n",
       "2012    175145.191176\n",
       "2013    155526.529412\n",
       "2014    138565.764706\n",
       "2015    115889.970588\n",
       "2016     50364.000000\n",
       "2017      8200.000000\n",
       "Name: przebieg, dtype: float64"
      ]
     },
     "execution_count": 7,
     "metadata": {},
     "output_type": "execute_result"
    }
   ],
   "source": [
    "oferty_pogrupowane.przebieg.mean()"
   ]
  },
  {
   "cell_type": "markdown",
   "metadata": {},
   "source": [
    "# Wykresy"
   ]
  },
  {
   "cell_type": "markdown",
   "metadata": {},
   "source": [
    "### Wyświetl wykres zależności średniego przebiegu od rocznika auta.\n",
    "Podczas generowania wykresu, podaj `ustawienia.rozmiary` jako wartość parametru `figsize`"
   ]
  },
  {
   "cell_type": "code",
   "execution_count": 8,
   "metadata": {},
   "outputs": [
    {
     "data": {
      "text/plain": [
       "<matplotlib.axes._subplots.AxesSubplot at 0x11b6c94e0>"
      ]
     },
     "execution_count": 8,
     "metadata": {},
     "output_type": "execute_result"
    },
    {
     "data": {
      "image/png": "[encoded data removed]",
      "text/plain": [
       "<Figure size 1080x720 with 1 Axes>"
      ]
     },
     "metadata": {
      "needs_background": "light"
     },
     "output_type": "display_data"
    }
   ],
   "source": [
    "oferty_pogrupowane.przebieg.mean().plot(figsize=ustawienia.rozmiary)"
   ]
  },
  {
   "cell_type": "markdown",
   "metadata": {},
   "source": [
    "### Wyświetl wykres zależności średniej ceny od rocznika auta."
   ]
  },
  {
   "cell_type": "code",
   "execution_count": 9,
   "metadata": {},
   "outputs": [
    {
     "data": {
      "text/plain": [
       "<matplotlib.axes._subplots.AxesSubplot at 0x11b7f3470>"
      ]
     },
     "execution_count": 9,
     "metadata": {},
     "output_type": "execute_result"
    },
    {
     "data": {
      "image/png": "[encoded data removed]",
      "text/plain": [
       "<Figure size 1080x720 with 1 Axes>"
      ]
     },
     "metadata": {
      "needs_background": "light"
     },
     "output_type": "display_data"
    }
   ],
   "source": [
    "oferty_pogrupowane.cena.mean().plot(figsize=ustawienia.rozmiary)"
   ]
  },
  {
   "cell_type": "markdown",
   "metadata": {},
   "source": [
    "### Wyświetl wykres kołowy pokazujący udział procentowy ofert w podziale na marki\n",
    "Zanim wyświetlisz wykres, wykonaj kroki pośrednie.\n",
    "\n",
    "Krok #1: Przygotuj obiekt `pogrupowane_wg_marek` zawierający pogrupowane oferty"
   ]
  },
  {
   "cell_type": "code",
   "execution_count": 10,
   "metadata": {},
   "outputs": [],
   "source": [
    "pogrupowane_wg_marek = oferty_df.groupby('marka')"
   ]
  },
  {
   "cell_type": "markdown",
   "metadata": {},
   "source": [
    "Krok #2: Wyświetl informacje o rozmiarach grup"
   ]
  },
  {
   "cell_type": "code",
   "execution_count": 11,
   "metadata": {},
   "outputs": [
    {
     "data": {
      "text/plain": [
       "marka\n",
       "BMW           1196\n",
       "Ford           564\n",
       "Volkswagen     788\n",
       "dtype: int64"
      ]
     },
     "execution_count": 11,
     "metadata": {},
     "output_type": "execute_result"
    }
   ],
   "source": [
    "pogrupowane_wg_marek.size()"
   ]
  },
  {
   "cell_type": "markdown",
   "metadata": {},
   "source": [
    "Krok #3: Wyświetl wykres kołowy dla obiektu `pogrupowane_wg_marek.size()`"
   ]
  },
  {
   "cell_type": "code",
   "execution_count": 12,
   "metadata": {},
   "outputs": [
    {
     "data": {
      "text/plain": [
       "<matplotlib.axes._subplots.AxesSubplot at 0x11b87d5f8>"
      ]
     },
     "execution_count": 12,
     "metadata": {},
     "output_type": "execute_result"
    },
    {
     "data": {
      "image/png": "[encoded data removed]",
      "text/plain": [
       "<Figure size 432x288 with 1 Axes>"
      ]
     },
     "metadata": {},
     "output_type": "display_data"
    }
   ],
   "source": [
    "pogrupowane_wg_marek.size().plot(kind=\"pie\", label= \"\")"
   ]
  },
  {
   "cell_type": "markdown",
   "metadata": {},
   "source": [
    "Krok #4: Wyświetl wykres kołowy dla obiektu `pogrupowane_wg_marek.size()` z informacją o udziale procentowym"
   ]
  },
  {
   "cell_type": "code",
   "execution_count": 13,
   "metadata": {},
   "outputs": [
    {
     "data": {
      "text/plain": [
       "<matplotlib.axes._subplots.AxesSubplot at 0x11df8eeb8>"
      ]
     },
     "execution_count": 13,
     "metadata": {},
     "output_type": "execute_result"
    },
    {
     "data": {
      "image/png": "[encoded data removed]",
      "text/plain": [
       "<Figure size 432x288 with 1 Axes>"
      ]
     },
     "metadata": {},
     "output_type": "display_data"
    }
   ],
   "source": [
    "pogrupowane_wg_marek.size().plot(kind=\"pie\", autopct='%.2f', label= \"\")"
   ]
  }
 ],
 "metadata": {
  "kernelspec": {
   "display_name": "Python 3",
   "language": "python",
   "name": "python3"
  },
  "language_info": {
   "codemirror_mode": {
    "name": "ipython",
    "version": 3
   },
   "file_extension": ".py",
   "mimetype": "text/x-python",
   "name": "python",
   "nbconvert_exporter": "python",
   "pygments_lexer": "ipython3",
   "version": "3.7.0"
  }
 },
 "nbformat": 4,
 "nbformat_minor": 2
}
