{
  "cells": [
    {
      "cell_type": "code",
      "execution_count": null,
      "outputs": [],
      "source": "import pandas as pd\nimport matplotlib.pyplot as plt\nimport settings \n",
      "metadata": {
        "pycharm": {
          "metadata": false,
          "name": "#%%\n"
        }
      }
    },
    {
      "cell_type": "markdown",
      "source": "# Connect to ther database",
      "metadata": {
        "pycharm": {
          "metadata": false
        }
      }
    },
    {
      "cell_type": "code",
      "execution_count": null,
      "outputs": [],
      "source": "offers_df \u003d pd.read_sql_table(\u0027offers\u0027,\u0027sqlite:///offers.db\u0027, index_col\u003d\u0027id\u0027)",
      "metadata": {
        "pycharm": {
          "metadata": false,
          "name": "#%%\n"
        }
      }
    },
    {
      "cell_type": "markdown",
      "source": "# Sellers activity analysis",
      "metadata": {
        "pycharm": {
          "metadata": false
        }
      }
    },
    {
      "cell_type": "code",
      "execution_count": null,
      "outputs": [],
      "source": "seller_id \u003d offers_df.groupby(\u0027seller_id\u0027)",
      "metadata": {
        "pycharm": {
          "metadata": false,
          "name": "#%%\n"
        }
      }
    },
    {
      "cell_type": "markdown",
      "source": "# Number of offers ",
      "metadata": {
        "pycharm": {
          "metadata": false
        }
      }
    },
    {
      "cell_type": "code",
      "execution_count": null,
      "outputs": [],
      "source": "seller_id.size().head()",
      "metadata": {
        "pycharm": {
          "metadata": false,
          "name": "#%%\n"
        }
      }
    },
    {
      "cell_type": "code",
      "execution_count": null,
      "outputs": [],
      "source": "sellers_ranking \u003d seller_id.size().reset_index(name\u003d\u0027counts\u0027)",
      "metadata": {
        "pycharm": {
          "metadata": false,
          "name": "#%%\n"
        }
      }
    },
    {
      "cell_type": "code",
      "execution_count": null,
      "outputs": [],
      "source": "sellers_ranking.head()",
      "metadata": {
        "pycharm": {
          "metadata": false,
          "name": "#%%\n"
        }
      }
    },
    {
      "cell_type": "markdown",
      "source": "# Number of unique sellers",
      "metadata": {
        "pycharm": {
          "metadata": false
        }
      }
    },
    {
      "cell_type": "code",
      "execution_count": null,
      "outputs": [],
      "source": "sellers_ranking.count()",
      "metadata": {
        "pycharm": {
          "metadata": false,
          "name": "#%%\n"
        }
      }
    },
    {
      "cell_type": "markdown",
      "source": "# Basic statistics",
      "metadata": {
        "pycharm": {
          "metadata": false
        }
      }
    },
    {
      "cell_type": "code",
      "execution_count": null,
      "outputs": [],
      "source": "sellers_ranking.describe()",
      "metadata": {
        "pycharm": {
          "metadata": false,
          "name": "#%%\n"
        }
      }
    },
    {
      "cell_type": "code",
      "execution_count": 15,
      "metadata": {
        "pycharm": {}
      },
      "outputs": [
        {
          "data": {
            "text/plain": [
              "array([[\u003cmatplotlib.axes._subplots.AxesSubplot object at 0x000001897153A160\u003e]],\n",
              "      dtype\u003dobject)"
            ]
          },
          "execution_count": 15,
          "metadata": {},
          "output_type": "execute_result"
        },
        {
          "data": {
            "image/png": "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\u003d\n",
            "text/plain": [
              "\u003cFigure size 1080x720 with 1 Axes\u003e"
            ]
          },
          "metadata": {
            "needs_background": "light"
          },
          "output_type": "display_data"
        }
      ],
      "source": "sellers_ranking.hist(figsize\u003dsettings.size)"
    },
    {
      "cell_type": "markdown",
      "metadata": {
        "pycharm": {}
      },
      "source": "Histogram after removing sellers that have less than 5 offers."
    },
    {
      "cell_type": "code",
      "execution_count": 16,
      "metadata": {
        "pycharm": {}
      },
      "outputs": [],
      "source": "without_plankton \u003d sellers_ranking[sellers_ranking.counts \u003e5]"
    },
    {
      "cell_type": "code",
      "execution_count": 17,
      "metadata": {
        "pycharm": {}
      },
      "outputs": [
        {
          "data": {
            "text/plain": [
              "array([[\u003cmatplotlib.axes._subplots.AxesSubplot object at 0x000001897153A908\u003e]],\n",
              "      dtype\u003dobject)"
            ]
          },
          "execution_count": 17,
          "metadata": {},
          "output_type": "execute_result"
        },
        {
          "data": {
            "image/png": "iVBORw0KGgoAAAANSUhEUgAAA2oAAAJOCAYAAADGYfSfAAAABHNCSVQICAgIfAhkiAAAAAlwSFlzAAALEgAACxIB0t1+/AAAADl0RVh0U29mdHdhcmUAbWF0cGxvdGxpYiB2ZXJzaW9uIDMuMC4yLCBodHRwOi8vbWF0cGxvdGxpYi5vcmcvOIA7rQAAHH1JREFUeJzt3X+M5Hd93/HXGx+E1otsqMnWGJOjwYpwsXDilYuKVO3lVw1uapASFQsRu6E6qkJEW7fVBSGFKE17TVuQqtAoplg4hLBBwQgH01BkcVhITeCOurEdi4LgIP5RuxRjONL8sPn0jx2Hy3F7u3c7M/vencdDWu3Od7773feZt+Z4ambnaowRAAAA+njaTg8AAADAXybUAAAAmhFqAAAAzQg1AACAZoQaAABAM0INAACgGaEGAADQjFADgFNU1fGq+tGdngOAxSXUAAAAmhFqALRXVZdW1W1V9X+q6v9W1a9U1dOq6q1V9eWqerSqfr2qLpicv1pVD5xyjb94lqyq3lZVH5h8zzer6r6qWpnc994kL0jyO1V1oqr+VVU9s6p+Y/Kzv15Vn6mq5Xn/dwBgcQg1AFqrqvOSfCTJl5PsT3JJkrUkN04+DiT5G0mWkvzKWVz670+uc2GS25/63jHG65J8JclPjDGWxhi/nOSGJBckuTTJX0vyj5P8v239wQDgDIQaAN1dneR5Sf7lGONbY4w/GWN8Kslrk7x9jPHFMcaJJD+X5DVVtW+L1/3UGOOjY4wnk7w3yUvPcO6fZz3QXjTGeHKMcWyM8Y1z/yMBwJkJNQC6uzTJl8cYT5xy/HlZf5btKV9Osi/JVl+S+L9P+vqPkzzzDJH33iQfS7JWVQ9V1S9X1dO3+HMA4KwJNQC6+6MkLzhNRD2U5PtOuv2CJE8keSTJt5L81afumLx88rln8TPHX7oxxp+PMX5hjHF5kr+d5O8l+emzuB4AnBWhBkB3n07ycJLDVXX+5I09Xp7k/Un+WVW9sKqWkvybJL81eebtf2X9GbJrJ898vTXJ95zFz3wk67/3liSpqgNVdcUk+L6R9ZdCPjmVPx0AnIZQA6C1ye+Q/USSF2X9TT4eSPIPktyS9Zck3pXkS0n+JMnPTr7n8ST/JMl/SfJg1p9he+DUa5/Bv03y1sk7PP6LJH89yW9nPdLuT/LJJL+x3T8bAGykxhibnwUAAMDceEYNAACgGaEGAADQjFADAABoRqgBAAA0s9E/7DkTF1100di/f//Urvetb30r559//tSuB6eyY8yaHWMe7BmzZseYh72yZ8eOHfvqGGPTf9tzrqG2f//+HD16dGrXO3LkSFZXV6d2PTiVHWPW7BjzYM+YNTvGPOyVPauqL2/lPC99BAAAaEaoAQAANCPUAAAAmhFqAAAAzQg1AACAZoQaAABAM0INAACgGaEGAADQjFADAABoRqgBAAA0I9QAAACaEWoAAADNCDUAAIBmhBoAAEAzQg0AAKAZoQYAANCMUAMAAGhGqAEAADQj1AAAAJoRagAAAM0INQAAgGaEGgAAQDNCDQAAoBmhBgAA0My+nR6gg/2H7tjpEXaV44ev3ekRAABgT/OMGgAAQDNCDQAAoBmhBgAA0IxQAwAAaEaoAQAANCPUAAAAmhFqAAAAzQg1AACAZoQaAABAM0INAACgGaEGAADQjFADAABoRqgBAAA0I9QAAACaEWoAAADNCDUAAIBmhBoAAEAzQg0AAKAZoQYAANCMUAMAAGhGqAEAADQj1AAAAJoRagAAAM0INQAAgGaEGgAAQDNCDQAAoBmhBgAA0IxQAwAAaEaoAQAANCPUAAAAmhFqAAAAzQg1AACAZoQaAABAM0INAACgGaEGAADQjFADAABoRqgBAAA0I9QAAACaEWoAAADNCDUAAIBmhBoAAEAzQg0AAKAZoQYAANDMpqFWVc+sqk9X1f+sqvuq6hcmx19YVb9fVZ+vqt+qqmfMflwAAIC9byvPqP1pkh8eY7w0yZVJrqmqlyX5d0neMca4LMljSV4/uzEBAAAWx6ahNtadmNx8+uRjJPnhJL89OX5rklfNZEIAAIAFU2OMzU+qOi/JsSQvSvLOJP8+ye+NMV40uf/SJP91jPGS03zvwSQHk2R5efmqtbW1qQ1/4sSJLC0tbfs69zz4+BSmWRxXXHLBTo8wN9PaMdiIHWMe7BmzZseYh72yZwcOHDg2xljZ7Lx9W7nYGOPJJFdW1YVJPpTkxac7bYPvvTnJzUmysrIyVldXt/Ijt+TIkSOZxvVuPHTH9odZIMdfu7rTI8zNtHYMNmLHmAd7xqzZMeZh0fbsrN71cYzx9SRHkrwsyYVV9VToPT/JQ9MdDQAAYDFt5V0fnzt5Ji1V9VeS/GiS+5N8IslPTk67IcmHZzUkAADAItnKSx8vTnLr5PfUnpbkA2OMj1TVHyZZq6p/neR/JHn3DOcEAABYGJuG2hjjD5L84GmOfzHJ1bMYCgAAYJGd1e+oAQAAMHtCDQAAoBmhBgAA0IxQAwAAaEaoAQAANCPUAAAAmhFqAAAAzQg1AACAZoQaAABAM0INAACgGaEGAADQjFADAABoRqgBAAA0I9QAAACaEWoAAADNCDUAAIBmhBoAAEAzQg0AAKAZoQYAANCMUAMAAGhGqAEAADQj1AAAAJoRagAAAM0INQAAgGaEGgAAQDNCDQAAoBmhBgAA0IxQAwAAaEaoAQAANCPUAAAAmhFqAAAAzQg1AACAZoQaAABAM0INAACgGaEGAADQjFADAABoRqgBAAA0I9QAAACaEWoAAADNCDUAAIBmhBoAAEAzQg0AAKAZoQYAANCMUAMAAGhGqAEAADQj1AAAAJoRagAAAM0INQAAgGaEGgAAQDNCDQAAoBmhBgAA0IxQAwAAaEaoAQAANCPUAAAAmhFqAAAAzQg1AACAZoQaAABAM0INAACgGaEGAADQjFADAABoRqgBAAA0I9QAAACaEWoAAADNCDUAAIBmhBoAAEAzQg0AAKAZoQYAANCMUAMAAGhGqAEAADQj1AAAAJrZNNSq6tKq+kRV3V9V91XVmyfH31ZVD1bV3ZOPV85+XAAAgL1v3xbOeSLJTWOMz1bVs5Icq6qPT+57xxjjP8xuPAAAgMWzaaiNMR5O8vDk629W1f1JLpn1YAAAAIuqxhhbP7lqf5K7krwkyT9PcmOSbyQ5mvVn3R47zfccTHIwSZaXl69aW1vb7sx/4cSJE1laWtr2de558PEpTLM4rrjkgp0eYW6mtWOwETvGPNgzZs2OMQ97Zc8OHDhwbIyxstl5Ww61qlpK8skkvzTGuK2qlpN8NclI8otJLh5j/MyZrrGysjKOHj26pZ+3FUeOHMnq6uq2r7P/0B3bH2aBHD987U6PMDfT2jHYiB1jHuwZs2bHmIe9smdVtaVQ29K7PlbV05N8MMn7xhi3JckY45ExxpNjjG8neVeSq7czMAAAAOu28q6PleTdSe4fY7z9pOMXn3Taq5PcO/3xAAAAFs9W3vXx5Ulel+Seqrp7cuwtSa6vqiuz/tLH40neMJMJAQAAFsxW3vXxU0nqNHd9dPrjAAAAsKXfUQMAAGB+hBoAAEAzQg0AAKAZoQYAANCMUAMAAGhGqAEAADQj1AAAAJoRagAAAM0INQAAgGaEGgAAQDNCDQAAoBmhBgAA0IxQAwAAaEaoAQAANCPUAAAAmhFqAAAAzQg1AACAZoQaAABAM0INAACgGaEGAADQjFADAABoRqgBAAA0I9QAAACaEWoAAADNCDUAAIBmhBoAAEAzQg0AAKAZoQYAANCMUAMAAGhGqAEAADQj1AAAAJoRagAAAM0INQAAgGaEGgAAQDNCDQAAoBmhBgAA0IxQAwAAaEaoAQAANCPUAAAAmhFqAAAAzQg1AACAZoQaAABAM0INAACgGaEGAADQjFADAABoRqgBAAA0I9QAAACaEWoAAADNCDUAAIBmhBoAAEAzQg0AAKAZoQYAANCMUAMAAGhGqAEAADQj1AAAAJoRagAAAM0INQAAgGaEGgAAQDNCDQAAoBmhBgAA0IxQAwAAaEaoAQAANCPUAAAAmhFqAAAAzQg1AACAZoQaAABAM0INAACgGaEGAADQjFADAABoZtNQq6pLq+oTVXV/Vd1XVW+eHH9OVX28qj4/+fzs2Y8LAACw923lGbUnktw0xnhxkpcleWNVXZ7kUJI7xxiXJblzchsAAIBt2jTUxhgPjzE+O/n6m0nuT3JJkuuS3Do57dYkr5rVkAAAAIukxhhbP7lqf5K7krwkyVfGGBeedN9jY4zvevljVR1McjBJlpeXr1pbW9vmyN9x4sSJLC0tbfs69zz4+BSmWRxXXHLBTo8wN9PaMdiIHWMe7BmzZseYh72yZwcOHDg2xljZ7Lwth1pVLSX5ZJJfGmPcVlVf30qonWxlZWUcPXp0Sz9vK44cOZLV1dVtX2f/oTu2P8wCOX742p0eYW6mtWOwETvGPNgzZs2OMQ97Zc+qakuhtqV3fayqpyf5YJL3jTFumxx+pKountx/cZJHz3VYAAAAvmMr7/pYSd6d5P4xxttPuuv2JDdMvr4hyYenPx4AAMDi2beFc16e5HVJ7qmquyfH3pLkcJIPVNXrk3wlyU/NZkQAAIDFsmmojTE+laQ2uPtHpjsOAAAAW/odNQAAAOZHqAEAADQj1AAAAJoRagAAAM0INQAAgGaEGgAAQDNCDQAAoBmhBgAA0IxQAwAAaEaoAQAANCPUAAAAmhFqAAAAzQg1AACAZoQaAABAM0INAACgGaEGAADQjFADAABoRqgBAAA0I9QAAACaEWoAAADNCDUAAIBmhBoAAEAzQg0AAKAZoQYAANCMUAMAAGhGqAEAADQj1AAAAJoRagAAAM0INQAAgGaEGgAAQDNCDQAAoBmhBgAA0IxQAwAAaEaoAQAANCPUAAAAmhFqAAAAzQg1AACAZoQaAABAM0INAACgGaEGAADQjFADAABoRqgBAAA0I9QAAACaEWoAAADNCDUAAIBmhBoAAEAzQg0AAKAZoQYAANCMUAMAAGhGqAEAADQj1AAAAJoRagAAAM0INQAAgGaEGgAAQDNCDQAAoBmhBgAA0IxQAwAAaEaoAQAANCPUAAAAmhFqAAAAzQg1AACAZoQaAABAM0INAACgGaEGAADQjFADAABoRqgBAAA0I9QAAACaEWoAAADNCDUAAIBmNg21qrqlqh6tqntPOva2qnqwqu6efLxytmMCAAAsjq08o/aeJNec5vg7xhhXTj4+Ot2xAAAAFtemoTbGuCvJ1+YwCwAAAElqjLH5SVX7k3xkjPGSye23JbkxyTeSHE1y0xjjsQ2+92CSg0myvLx81dra2hTGXnfixIksLS1t+zr3PPj4FKZZHFdccsFOjzA309ox2IgdYx7sGbNmx5iHvbJnBw4cODbGWNnsvHMNteUkX00ykvxikovHGD+z2XVWVlbG0aNHN/15W3XkyJGsrq5u+zr7D92x/WEWyPHD1+70CHMzrR2Djdgx5sGeMWt2jHnYK3tWVVsKtXN618cxxiNjjCfHGN9O8q4kV5/LdQAAAPhu5xRqVXXxSTdfneTejc4FAADg7Ozb7ISqen+S1SQXVdUDSX4+yWpVXZn1lz4eT/KGGc4IAACwUDYNtTHG9ac5/O4ZzAIAAEDO8aWPAAAAzI5QAwAAaEaoAQAANCPUAAAAmhFqAAAAzQg1AACAZoQaAABAM0INAACgGaEGAADQjFADAABoRqgBAAA0I9QAAACaEWoAAADNCDUAAIBmhBoAAEAzQg0AAKAZoQYAANCMUAMAAGhGqAEAADQj1AAAAJoRagAAAM0INQAAgGaEGgAAQDNCDQAAoBmhBgAA0IxQAwAAaEaoAQAANCPUAAAAmhFqAAAAzQg1AACAZoQaAABAM0INAACgGaEGAADQjFADAABoRqgBAAA0I9QAAACaEWoAAADNCDUAAIBmhBoAAEAzQg0AAKAZoQYAANCMUAMAAGhGqAEAADQj1AAAAJoRagAAAM0INQAAgGaEGgAAQDNCDQAAoBmhBgAA0IxQAwAAaEaoAQAANCPUAAAAmhFqAAAAzQg1AACAZoQaAABAM0INAACgGaEGAADQjFADAABoRqgBAAA0I9QAAACaEWoAAADNCDUAAIBmhBoAAEAzQg0AAKAZoQYAANCMUAMAAGhGqAEAADQj1AAAAJoRagAAAM0INQAAgGY2DbWquqWqHq2qe0869pyq+nhVfX7y+dmzHRMAAGBxbOUZtfckueaUY4eS3DnGuCzJnZPbAAAATMGmoTbGuCvJ1045fF2SWydf35rkVVOeCwAAYGHVGGPzk6r2J/nIGOMlk9tfH2NceNL9j40xTvvyx6o6mORgkiwvL1+1trY2hbHXnThxIktLS9u+zj0PPj6FaRbHFZdcsNMjzM20dgw2YseYB3vGrNkx5mGv7NmBAweOjTFWNjtv36wHGWPcnOTmJFlZWRmrq6tTu/aRI0cyjevdeOiO7Q+zQI6/dnWnR5ibae0YbMSOMQ/2jFmzY8zDou3Zub7r4yNVdXGSTD4/Or2RAAAAFtu5htrtSW6YfH1Dkg9PZxwAAAC28vb870/y35P8QFU9UFWvT3I4yY9V1eeT/NjkNgAAAFOw6e+ojTGu3+CuH5nyLAAAAOTcX/oIAADAjAg1AACAZoQaAABAM0INAACgGaEGAADQjFADAABoRqgBAAA0I9QAAACaEWoAAADNCDUAAIBmhBoAAEAzQg0AAKAZoQYAANCMUAMAAGhGqAEAADQj1AAAAJoRagAAAM0INQAAgGaEGgAAQDNCDQAAoBmhBgAA0IxQAwAAaEaoAQAANCPUAAAAmhFqAAAAzQg1AACAZoQaAABAM0INAACgGaEGAADQjFADAABoRqgBAAA0I9QAAACaEWoAAADNCDUAAIBmhBoAAEAzQg0AAKAZoQYAANCMUAMAAGhGqAEAADQj1AAAAJoRagAAAM0INQAAgGaEGgAAQDNCDQAAoBmhBgAA0IxQAwAAaEaoAQAANCPUAAAAmhFqAAAAzQg1AACAZoQaAABAM0INAACgGaEGAADQjFADAABoRqgBAAA0I9QAAACaEWoAAADNCDUAAIBmhBoAAEAzQg0AAKAZoQYAANCMUAMAAGhGqAEAADQj1AAAAJoRagAAAM0INQAAgGaEGgAAQDNCDQAAoBmhBgAA0My+7XxzVR1P8s0kTyZ5YoyxMo2hAAAAFtm2Qm3iwBjjq1O4DgAAAPHSRwAAgHZqjHHu31z1pSSPJRlJfm2McfNpzjmY5GCSLC8vX7W2tnbOP+9UJ06cyNLS0ravc8+Dj09hmsVxxSUX7PQIczOtHYON2DHmwZ4xa3aMedgre3bgwIFjW/mVse2G2vPGGA9V1fcm+XiSnx1j3LXR+SsrK+Po0aPn/PNOdeTIkayurm77OvsP3bH9YRbI8cPX7vQIczOtHYON2DHmwZ4xa3aMedgre1ZVWwq1bb30cYzx0OTzo0k+lOTq7VwPAACAbYRaVZ1fVc966uskP57k3mkNBgAAsKi2866Py0k+VFVPXec3xxi/O5WpAAAAFtg5h9oY44tJXjrFWQAAAIi35wcAAGhHqAEAADQj1AAAAJoRagAAAM0INQAAgGaEGgAAQDNCDQAAoBmhBgAA0IxQAwAAaEaoAQAANLNvpwdg99l/6I6dHmFubrriidy4zT/v8cPXTmkaAAAWhWfUAAAAmhFqAAAAzQg1AACAZoQaAABAM0INAACgGaEGAADQjFADAABoRqgBAAA0I9QAAACaEWoAAADNCDUAAIBmhBoAAEAzQg0AAKAZoQYAANCMUAMAAGhGqAEAADQj1AAAAJoRagAAAM0INQAAgGaEGgAAQDNCDQAAoBmhBgAA0IxQAwAAaEaoAQAANCPUAAAAmhFqAAAAzQg1AACAZoQaAABAM0INAACgGaEGAADQjFADAABoRqgBAAA0I9QAAACaEWoAAADNCDUAAIBmhBoAAEAzQg0AAKAZoQYAANCMUAMAAGhGqAEAADQj1AAAAJoRagAAAM0INQAAgGaEGgAAQDNCDQAAoBmhBgAA0My+nR4AAADY3P5Dd+z0CDvqpiueyI1n8d/g+OFrZzjN7HlGDQAAoBmhBgAA0IxQAwAAaEaoAQAANCPUAAAAmhFqAAAAzQg1AACAZoQaAABAM0INAACgGaEGAADQjFADAABoRqgBAAA0s61Qq6prqupzVfWFqjo0raEAAAAW2TmHWlWdl+SdSV6R5PIk11fV5dMaDAAAYFFt5xm1q5N8YYzxxTHGnyVZS3LddMYCAABYXDXGOLdvrPrJJNeMMf7R5PbrkvytMcabTjnvYJKDk5s/kORz5z7ud7koyVeneD04lR1j1uwY82DPmDU7xjzslT37vjHGczc7ad82fkCd5th3Vd8Y4+YkN2/j52w8QNXRMcbKLK4NiR1j9uwY82DPmDU7xjws2p5t56WPDyS59KTbz0/y0PbGAQAAYDuh9pkkl1XVC6vqGUlek+T26YwFAACwuM75pY9jjCeq6k1JPpbkvCS3jDHum9pkWzOTl1TCSewYs2bHmAd7xqzZMeZhofbsnN9MBAAAgNnY1j94DQAAwPQJNQAAgGZ2ZahV1TVV9bmq+kJVHdrpedgbqup4Vd1TVXdX1dHJsedU1cer6vOTz8/e6TnZXarqlqp6tKruPenYafeq1v2nyWPbH1TVD+3c5OwWG+zY26rqwcnj2d1V9cqT7vu5yY59rqr+7s5MzW5TVZdW1Seq6v6quq+q3jw57vGMqTjDji3s49muC7WqOi/JO5O8IsnlSa6vqst3dir2kANjjCtP+jc6DiW5c4xxWZI7J7fhbLwnyTWnHNtor16R5LLJx8EkvzqnGdnd3pPv3rEkecfk8ezKMcZHk2Ty9+VrkvzNyff858nfq7CZJ5LcNMZ4cZKXJXnjZJ88njEtG+1YsqCPZ7su1JJcneQLY4wvjjH+LMlakut2eCb2ruuS3Dr5+tYkr9rBWdiFxhh3JfnaKYc32qvrkvz6WPd7SS6sqovnMym71QY7tpHrkqyNMf50jPGlJF/I+t+rcEZjjIfHGJ+dfP3NJPcnuSQez5iSM+zYRvb849luDLVLkvzRSbcfyJn/R4StGkn+W1Udq6qDk2PLY4yHk/UHkCTfu2PTsZdstFce35imN01ecnbLSS/btmNsW1XtT/KDSX4/Hs+YgVN2LFnQx7PdGGp1mmP+jQGm4eVjjB/K+ss13lhVf2enB2LheHxjWn41yfcnuTLJw0n+4+S4HWNbqmopyQeT/NMxxjfOdOppjtk1NnWaHVvYx7PdGGoPJLn0pNvPT/LQDs3CHjLGeGjy+dEkH8r60+ePPPVSjcnnR3duQvaQjfbK4xtTMcZ4ZIzx5Bjj20nele+8HMiOcc6q6ulZ/z/Q7xtj3DY57PGMqTndji3y49luDLXPJLmsql5YVc/I+i8R3r7DM7HLVdX5VfWsp75O8uNJ7s36bt0wOe2GJB/emQnZYzbaq9uT/PTk3dJeluTxp15SBGfjlN8FenXWH8+S9R17TVV9T1W9MOtv9PDpec/H7lNVleTdSe4fY7z9pLs8njEVG+3YIj+e7dvpAc7WGOOJqnpTko8lOS/JLWOM+3Z4LHa/5SQfWn+MyL4kvznG+N2q+kySD1TV65N8JclP7eCM7EJV9f4kq0kuqqoHkvx8ksM5/V59NMkrs/4L0X+c5B/OfWB2nQ12bLWqrsz6y4COJ3lDkowx7quqDyT5w6y/w9obxxhP7sTc7DovT/K6JPdU1d2TY2+JxzOmZ6Mdu35RH89qjD31Uk4AAIBdbze+9BEAAGBPE2oAAADNCDUAAIBmhBoAAEAzQg0AAKAZoQYAANCMUAMAAGjm/wOt7NtJJM0ZBgAAAABJRU5ErkJggg\u003d\u003d\n",
            "text/plain": [
              "\u003cFigure size 1080x720 with 1 Axes\u003e"
            ]
          },
          "metadata": {
            "needs_background": "light"
          },
          "output_type": "display_data"
        }
      ],
      "source": "without_plankton.hist(figsize\u003dsettings.size)"
    },
    {
      "cell_type": "markdown",
      "metadata": {
        "pycharm": {}
      },
      "source": "Show DataFrame values"
    },
    {
      "cell_type": "code",
      "execution_count": 18,
      "metadata": {
        "pycharm": {}
      },
      "outputs": [
        {
          "data": {
            "text/html": [
              "\u003cdiv\u003e\n",
              "\u003cstyle scoped\u003e\n",
              "    .dataframe tbody tr th:only-of-type {\n",
              "        vertical-align: middle;\n",
              "    }\n",
              "\n",
              "    .dataframe tbody tr th {\n",
              "        vertical-align: top;\n",
              "    }\n",
              "\n",
              "    .dataframe thead th {\n",
              "        text-align: right;\n",
              "    }\n",
              "\u003c/style\u003e\n",
              "\u003ctable border\u003d\"1\" class\u003d\"dataframe\"\u003e\n",
              "  \u003cthead\u003e\n",
              "    \u003ctr style\u003d\"text-align: right;\"\u003e\n",
              "      \u003cth\u003e\u003c/th\u003e\n",
              "      \u003cth\u003eseller_id\u003c/th\u003e\n",
              "      \u003cth\u003ecounts\u003c/th\u003e\n",
              "    \u003c/tr\u003e\n",
              "  \u003c/thead\u003e\n",
              "  \u003ctbody\u003e\n",
              "    \u003ctr\u003e\n",
              "      \u003cth\u003e0\u003c/th\u003e\n",
              "      \u003ctd\u003e\u003c/td\u003e\n",
              "      \u003ctd\u003e25\u003c/td\u003e\n",
              "    \u003c/tr\u003e\n",
              "    \u003ctr\u003e\n",
              "      \u003cth\u003e2\u003c/th\u003e\n",
              "      \u003ctd\u003e-BEZWYPADKOWE-\u003c/td\u003e\n",
              "      \u003ctd\u003e17\u003c/td\u003e\n",
              "    \u003c/tr\u003e\n",
              "    \u003ctr\u003e\n",
              "      \u003cth\u003e3\u003c/th\u003e\n",
              "      \u003ctd\u003e-DarCar-\u003c/td\u003e\n",
              "      \u003ctd\u003e10\u003c/td\u003e\n",
              "    \u003c/tr\u003e\n",
              "    \u003ctr\u003e\n",
              "      \u003cth\u003e8\u003c/th\u003e\n",
              "      \u003ctd\u003e-visio-15\u003c/td\u003e\n",
              "      \u003ctd\u003e6\u003c/td\u003e\n",
              "    \u003c/tr\u003e\n",
              "    \u003ctr\u003e\n",
              "      \u003cth\u003e42\u003c/th\u003e\n",
              "      \u003ctd\u003eAAAAUTOPL\u003c/td\u003e\n",
              "      \u003ctd\u003e254\u003c/td\u003e\n",
              "    \u003c/tr\u003e\n",
              "  \u003c/tbody\u003e\n",
              "\u003c/table\u003e\n",
              "\u003c/div\u003e"
            ],
            "text/plain": [
              "         seller_id  counts\n",
              "0                       25\n",
              "2   -BEZWYPADKOWE-      17\n",
              "3         -DarCar-      10\n",
              "8        -visio-15       6\n",
              "42       AAAAUTOPL     254"
            ]
          },
          "execution_count": 18,
          "metadata": {},
          "output_type": "execute_result"
        }
      ],
      "source": [
        "without_plankton.head()"
      ]
    },
    {
      "cell_type": "markdown",
      "metadata": {
        "pycharm": {}
      },
      "source": "Search for the leaders"
    },
    {
      "cell_type": "code",
      "execution_count": 19,
      "metadata": {
        "pycharm": {}
      },
      "outputs": [
        {
          "data": {
            "text/html": [
              "\u003cdiv\u003e\n",
              "\u003cstyle scoped\u003e\n",
              "    .dataframe tbody tr th:only-of-type {\n",
              "        vertical-align: middle;\n",
              "    }\n",
              "\n",
              "    .dataframe tbody tr th {\n",
              "        vertical-align: top;\n",
              "    }\n",
              "\n",
              "    .dataframe thead th {\n",
              "        text-align: right;\n",
              "    }\n",
              "\u003c/style\u003e\n",
              "\u003ctable border\u003d\"1\" class\u003d\"dataframe\"\u003e\n",
              "  \u003cthead\u003e\n",
              "    \u003ctr style\u003d\"text-align: right;\"\u003e\n",
              "      \u003cth\u003e\u003c/th\u003e\n",
              "      \u003cth\u003eseller_id\u003c/th\u003e\n",
              "      \u003cth\u003ecounts\u003c/th\u003e\n",
              "    \u003c/tr\u003e\n",
              "  \u003c/thead\u003e\n",
              "  \u003ctbody\u003e\n",
              "    \u003ctr\u003e\n",
              "      \u003cth\u003e42\u003c/th\u003e\n",
              "      \u003ctd\u003eAAAAUTOPL\u003c/td\u003e\n",
              "      \u003ctd\u003e254\u003c/td\u003e\n",
              "    \u003c/tr\u003e\n",
              "    \u003ctr\u003e\n",
              "      \u003cth\u003e1300\u003c/th\u003e\n",
              "      \u003ctd\u003emusti701\u003c/td\u003e\n",
              "      \u003ctd\u003e45\u003c/td\u003e\n",
              "    \u003c/tr\u003e\n",
              "    \u003ctr\u003e\n",
              "      \u003cth\u003e855\u003c/th\u003e\n",
              "      \u003ctd\u003eeitech\u003c/td\u003e\n",
              "      \u003ctd\u003e45\u003c/td\u003e\n",
              "    \u003c/tr\u003e\n",
              "    \u003ctr\u003e\n",
              "      \u003cth\u003e502\u003c/th\u003e\n",
              "      \u003ctd\u003eROYAL-HOLDING\u003c/td\u003e\n",
              "      \u003ctd\u003e42\u003c/td\u003e\n",
              "    \u003c/tr\u003e\n",
              "    \u003ctr\u003e\n",
              "      \u003cth\u003e724\u003c/th\u003e\n",
              "      \u003ctd\u003eautoexc\u003c/td\u003e\n",
              "      \u003ctd\u003e31\u003c/td\u003e\n",
              "    \u003c/tr\u003e\n",
              "  \u003c/tbody\u003e\n",
              "\u003c/table\u003e\n",
              "\u003c/div\u003e"
            ],
            "text/plain": [
              "          seller_id  counts\n",
              "42        AAAAUTOPL     254\n",
              "1300       musti701      45\n",
              "855          eitech      45\n",
              "502   ROYAL-HOLDING      42\n",
              "724         autoexc      31"
            ]
          },
          "execution_count": 19,
          "metadata": {},
          "output_type": "execute_result"
        }
      ],
      "source": [
        "without_plankton.sort_values(by\u003d\"counts\", ascending\u003d False).head()"
      ]
    },
    {
      "cell_type": "markdown",
      "metadata": {
        "pycharm": {}
      },
      "source": "Sellers with the least number of offers "
    },
    {
      "cell_type": "code",
      "execution_count": 14,
      "metadata": {
        "pycharm": {}
      },
      "outputs": [
        {
          "data": {
            "text/html": [
              "\u003cdiv\u003e\n",
              "\u003cstyle scoped\u003e\n",
              "    .dataframe tbody tr th:only-of-type {\n",
              "        vertical-align: middle;\n",
              "    }\n",
              "\n",
              "    .dataframe tbody tr th {\n",
              "        vertical-align: top;\n",
              "    }\n",
              "\n",
              "    .dataframe thead th {\n",
              "        text-align: right;\n",
              "    }\n",
              "\u003c/style\u003e\n",
              "\u003ctable border\u003d\"1\" class\u003d\"dataframe\"\u003e\n",
              "  \u003cthead\u003e\n",
              "    \u003ctr style\u003d\"text-align: right;\"\u003e\n",
              "      \u003cth\u003e\u003c/th\u003e\n",
              "      \u003cth\u003eid_sprzedajacego\u003c/th\u003e\n",
              "      \u003cth\u003ecounts\u003c/th\u003e\n",
              "    \u003c/tr\u003e\n",
              "  \u003c/thead\u003e\n",
              "  \u003ctbody\u003e\n",
              "    \u003ctr\u003e\n",
              "      \u003cth\u003e7\u003c/th\u003e\n",
              "      \u003ctd\u003e-komislux-\u003c/td\u003e\n",
              "      \u003ctd\u003e6\u003c/td\u003e\n",
              "    \u003c/tr\u003e\n",
              "    \u003ctr\u003e\n",
              "      \u003cth\u003e1253\u003c/th\u003e\n",
              "      \u003ctd\u003emaxicars\u003c/td\u003e\n",
              "      \u003ctd\u003e6\u003c/td\u003e\n",
              "    \u003c/tr\u003e\n",
              "    \u003ctr\u003e\n",
              "      \u003cth\u003e1190\u003c/th\u003e\n",
              "      \u003ctd\u003emabartpl\u003c/td\u003e\n",
              "      \u003ctd\u003e6\u003c/td\u003e\n",
              "    \u003c/tr\u003e\n",
              "    \u003ctr\u003e\n",
              "      \u003cth\u003e712\u003c/th\u003e\n",
              "      \u003ctd\u003eautauk1\u003c/td\u003e\n",
              "      \u003ctd\u003e6\u003c/td\u003e\n",
              "    \u003c/tr\u003e\n",
              "    \u003ctr\u003e\n",
              "      \u003cth\u003e611\u003c/th\u003e\n",
              "      \u003ctd\u003eYanosikMoto\u003c/td\u003e\n",
              "      \u003ctd\u003e6\u003c/td\u003e\n",
              "    \u003c/tr\u003e\n",
              "  \u003c/tbody\u003e\n",
              "\u003c/table\u003e\n",
              "\u003c/div\u003e"
            ],
            "text/plain": [
              "     id_sprzedajacego  counts\n",
              "7          -komislux-       6\n",
              "1253         maxicars       6\n",
              "1190         mabartpl       6\n",
              "712           autauk1       6\n",
              "611       YanosikMoto       6"
            ]
          },
          "execution_count": 14,
          "metadata": {},
          "output_type": "execute_result"
        }
      ],
      "source": [
        "without_plankton.sort_values(by\u003d\"counts\").head()"
      ]
    }
  ],
  "metadata": {
    "kernelspec": {
      "display_name": "Python 3",
      "language": "python",
      "name": "python3"
    },
    "language_info": {
      "codemirror_mode": {
        "name": "ipython",
        "version": 3
      },
      "file_extension": ".py",
      "mimetype": "text/x-python",
      "name": "python",
      "nbconvert_exporter": "python",
      "pygments_lexer": "ipython3",
      "version": "3.7.0"
    },
    "stem_cell": {
      "cell_type": "raw",
      "source": "",
      "metadata": {
        "pycharm": {
          "metadata": false
        }
      }
    }
  },
  "nbformat": 4,
  "nbformat_minor": 2
}